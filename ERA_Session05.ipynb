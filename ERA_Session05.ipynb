{
  "nbformat": 4,
  "nbformat_minor": 0,
  "metadata": {
    "colab": {
      "provenance": [],
      "gpuType": "T4",
      "authorship_tag": "ABX9TyOgWJ5+h58DekAjLySM1BR2",
      "include_colab_link": true
    },
    "kernelspec": {
      "name": "python3",
      "display_name": "Python 3"
    },
    "language_info": {
      "name": "python"
    },
    "accelerator": "GPU"
  },
  "cells": [
    {
      "cell_type": "markdown",
      "metadata": {
        "id": "view-in-github",
        "colab_type": "text"
      },
      "source": [
        "<a href=\"https://colab.research.google.com/github/vikrampathare/ERA_Session05/blob/main/ERA_Session05.ipynb\" target=\"_parent\"><img src=\"https://colab.research.google.com/assets/colab-badge.svg\" alt=\"Open In Colab\"/></a>"
      ]
    },
    {
      "cell_type": "code",
      "execution_count": 10,
      "metadata": {
        "colab": {
          "base_uri": "https://localhost:8080/"
        },
        "id": "zAJgtdk6rDfC",
        "outputId": "c77122d1-ca1f-4f09-e0cb-65dc3722906b"
      },
      "outputs": [
        {
          "output_type": "stream",
          "name": "stdout",
          "text": [
            "Device: cuda\n",
            "Total parameters: 9,798\n",
            "Trainable parameters: 9,798\n",
            "----------------------------------------------------------------\n",
            "        Layer (type)               Output Shape         Param #\n",
            "================================================================\n",
            "            Conv2d-1           [-1, 10, 28, 28]             100\n",
            "       BatchNorm2d-2           [-1, 10, 28, 28]              20\n",
            "           Dropout-3           [-1, 10, 28, 28]               0\n",
            "            Conv2d-4           [-1, 16, 28, 28]           1,456\n",
            "       BatchNorm2d-5           [-1, 16, 28, 28]              32\n",
            "           Dropout-6           [-1, 16, 28, 28]               0\n",
            "         MaxPool2d-7           [-1, 16, 14, 14]               0\n",
            "            Conv2d-8           [-1, 10, 14, 14]             170\n",
            "            Conv2d-9           [-1, 16, 14, 14]           1,456\n",
            "      BatchNorm2d-10           [-1, 16, 14, 14]              32\n",
            "          Dropout-11           [-1, 16, 14, 14]               0\n",
            "           Conv2d-12           [-1, 16, 14, 14]           2,320\n",
            "      BatchNorm2d-13           [-1, 16, 14, 14]              32\n",
            "          Dropout-14           [-1, 16, 14, 14]               0\n",
            "        MaxPool2d-15             [-1, 16, 7, 7]               0\n",
            "           Conv2d-16             [-1, 10, 7, 7]             170\n",
            "           Conv2d-17             [-1, 16, 7, 7]           1,456\n",
            "      BatchNorm2d-18             [-1, 16, 7, 7]              32\n",
            "          Dropout-19             [-1, 16, 7, 7]               0\n",
            "           Conv2d-20             [-1, 16, 7, 7]           2,320\n",
            "      BatchNorm2d-21             [-1, 16, 7, 7]              32\n",
            "          Dropout-22             [-1, 16, 7, 7]               0\n",
            "           Conv2d-23             [-1, 10, 7, 7]             170\n",
            "AdaptiveAvgPool2d-24             [-1, 10, 1, 1]               0\n",
            "================================================================\n",
            "Total params: 9,798\n",
            "Trainable params: 9,798\n",
            "Non-trainable params: 0\n",
            "----------------------------------------------------------------\n",
            "Input size (MB): 0.00\n",
            "Forward/backward pass size (MB): 0.70\n",
            "Params size (MB): 0.04\n",
            "Estimated Total Size (MB): 0.74\n",
            "----------------------------------------------------------------\n",
            "\n",
            "Epoch 1/19\n"
          ]
        },
        {
          "output_type": "stream",
          "name": "stderr",
          "text": [
            "Epoch=1 Loss=0.6395 Batch_id=468 Accuracy=55.80%: 100%|██████████| 469/469 [00:22<00:00, 21.28it/s]\n"
          ]
        },
        {
          "output_type": "stream",
          "name": "stdout",
          "text": [
            "\n",
            "Test set: Average loss: 0.6716, Accuracy: 8470/10000 (84.70%)\n",
            "\n",
            "New best accuracy: 84.70%\n",
            "\n",
            "Epoch 2/19\n"
          ]
        },
        {
          "output_type": "stream",
          "name": "stderr",
          "text": [
            "Epoch=2 Loss=0.1060 Batch_id=468 Accuracy=93.90%: 100%|██████████| 469/469 [00:20<00:00, 22.64it/s]\n"
          ]
        },
        {
          "output_type": "stream",
          "name": "stdout",
          "text": [
            "\n",
            "Test set: Average loss: 0.1255, Accuracy: 9700/10000 (97.00%)\n",
            "\n",
            "New best accuracy: 97.00%\n",
            "\n",
            "Epoch 3/19\n"
          ]
        },
        {
          "output_type": "stream",
          "name": "stderr",
          "text": [
            "Epoch=3 Loss=0.0444 Batch_id=468 Accuracy=96.83%: 100%|██████████| 469/469 [00:21<00:00, 22.20it/s]\n"
          ]
        },
        {
          "output_type": "stream",
          "name": "stdout",
          "text": [
            "\n",
            "Test set: Average loss: 0.0918, Accuracy: 9748/10000 (97.48%)\n",
            "\n",
            "New best accuracy: 97.48%\n",
            "\n",
            "Epoch 4/19\n"
          ]
        },
        {
          "output_type": "stream",
          "name": "stderr",
          "text": [
            "Epoch=4 Loss=0.0968 Batch_id=468 Accuracy=97.62%: 100%|██████████| 469/469 [00:21<00:00, 22.10it/s]\n"
          ]
        },
        {
          "output_type": "stream",
          "name": "stdout",
          "text": [
            "\n",
            "Test set: Average loss: 0.0560, Accuracy: 9832/10000 (98.32%)\n",
            "\n",
            "New best accuracy: 98.32%\n",
            "\n",
            "Epoch 5/19\n"
          ]
        },
        {
          "output_type": "stream",
          "name": "stderr",
          "text": [
            "Epoch=5 Loss=0.0514 Batch_id=468 Accuracy=97.97%: 100%|██████████| 469/469 [00:21<00:00, 21.96it/s]\n"
          ]
        },
        {
          "output_type": "stream",
          "name": "stdout",
          "text": [
            "\n",
            "Test set: Average loss: 0.0608, Accuracy: 9811/10000 (98.11%)\n",
            "\n",
            "\n",
            "Epoch 6/19\n"
          ]
        },
        {
          "output_type": "stream",
          "name": "stderr",
          "text": [
            "Epoch=6 Loss=0.0275 Batch_id=468 Accuracy=98.20%: 100%|██████████| 469/469 [00:21<00:00, 21.97it/s]\n"
          ]
        },
        {
          "output_type": "stream",
          "name": "stdout",
          "text": [
            "\n",
            "Test set: Average loss: 0.0426, Accuracy: 9886/10000 (98.86%)\n",
            "\n",
            "New best accuracy: 98.86%\n",
            "\n",
            "Epoch 7/19\n"
          ]
        },
        {
          "output_type": "stream",
          "name": "stderr",
          "text": [
            "Epoch=7 Loss=0.0431 Batch_id=468 Accuracy=98.39%: 100%|██████████| 469/469 [00:21<00:00, 21.90it/s]\n"
          ]
        },
        {
          "output_type": "stream",
          "name": "stdout",
          "text": [
            "\n",
            "Test set: Average loss: 0.0354, Accuracy: 9898/10000 (98.98%)\n",
            "\n",
            "New best accuracy: 98.98%\n",
            "\n",
            "Epoch 8/19\n"
          ]
        },
        {
          "output_type": "stream",
          "name": "stderr",
          "text": [
            "Epoch=8 Loss=0.0315 Batch_id=468 Accuracy=98.44%: 100%|██████████| 469/469 [00:21<00:00, 21.98it/s]\n"
          ]
        },
        {
          "output_type": "stream",
          "name": "stdout",
          "text": [
            "\n",
            "Test set: Average loss: 0.0385, Accuracy: 9878/10000 (98.78%)\n",
            "\n",
            "\n",
            "Epoch 9/19\n"
          ]
        },
        {
          "output_type": "stream",
          "name": "stderr",
          "text": [
            "Epoch=9 Loss=0.0969 Batch_id=468 Accuracy=98.60%: 100%|██████████| 469/469 [00:21<00:00, 22.23it/s]\n"
          ]
        },
        {
          "output_type": "stream",
          "name": "stdout",
          "text": [
            "\n",
            "Test set: Average loss: 0.0368, Accuracy: 9886/10000 (98.86%)\n",
            "\n",
            "\n",
            "Epoch 10/19\n"
          ]
        },
        {
          "output_type": "stream",
          "name": "stderr",
          "text": [
            "Epoch=10 Loss=0.1025 Batch_id=468 Accuracy=98.64%: 100%|██████████| 469/469 [00:20<00:00, 22.52it/s]\n"
          ]
        },
        {
          "output_type": "stream",
          "name": "stdout",
          "text": [
            "\n",
            "Test set: Average loss: 0.0319, Accuracy: 9901/10000 (99.01%)\n",
            "\n",
            "New best accuracy: 99.01%\n",
            "\n",
            "Epoch 11/19\n"
          ]
        },
        {
          "output_type": "stream",
          "name": "stderr",
          "text": [
            "Epoch=11 Loss=0.0567 Batch_id=468 Accuracy=98.77%: 100%|██████████| 469/469 [00:20<00:00, 22.73it/s]\n"
          ]
        },
        {
          "output_type": "stream",
          "name": "stdout",
          "text": [
            "\n",
            "Test set: Average loss: 0.0267, Accuracy: 9912/10000 (99.12%)\n",
            "\n",
            "New best accuracy: 99.12%\n",
            "\n",
            "Epoch 12/19\n"
          ]
        },
        {
          "output_type": "stream",
          "name": "stderr",
          "text": [
            "Epoch=12 Loss=0.0397 Batch_id=468 Accuracy=98.83%: 100%|██████████| 469/469 [00:20<00:00, 22.68it/s]\n"
          ]
        },
        {
          "output_type": "stream",
          "name": "stdout",
          "text": [
            "\n",
            "Test set: Average loss: 0.0259, Accuracy: 9918/10000 (99.18%)\n",
            "\n",
            "New best accuracy: 99.18%\n",
            "\n",
            "Epoch 13/19\n"
          ]
        },
        {
          "output_type": "stream",
          "name": "stderr",
          "text": [
            "Epoch=13 Loss=0.0596 Batch_id=468 Accuracy=98.86%: 100%|██████████| 469/469 [00:21<00:00, 22.19it/s]\n"
          ]
        },
        {
          "output_type": "stream",
          "name": "stdout",
          "text": [
            "\n",
            "Test set: Average loss: 0.0268, Accuracy: 9913/10000 (99.13%)\n",
            "\n",
            "\n",
            "Epoch 14/19\n"
          ]
        },
        {
          "output_type": "stream",
          "name": "stderr",
          "text": [
            "Epoch=14 Loss=0.0279 Batch_id=468 Accuracy=98.93%: 100%|██████████| 469/469 [00:21<00:00, 21.99it/s]\n"
          ]
        },
        {
          "output_type": "stream",
          "name": "stdout",
          "text": [
            "\n",
            "Test set: Average loss: 0.0262, Accuracy: 9914/10000 (99.14%)\n",
            "\n",
            "\n",
            "Epoch 15/19\n"
          ]
        },
        {
          "output_type": "stream",
          "name": "stderr",
          "text": [
            "Epoch=15 Loss=0.0584 Batch_id=468 Accuracy=99.03%: 100%|██████████| 469/469 [00:21<00:00, 22.12it/s]\n"
          ]
        },
        {
          "output_type": "stream",
          "name": "stdout",
          "text": [
            "\n",
            "Test set: Average loss: 0.0225, Accuracy: 9929/10000 (99.29%)\n",
            "\n",
            "New best accuracy: 99.29%\n",
            "\n",
            "Epoch 16/19\n"
          ]
        },
        {
          "output_type": "stream",
          "name": "stderr",
          "text": [
            "Epoch=16 Loss=0.0468 Batch_id=468 Accuracy=99.10%: 100%|██████████| 469/469 [00:21<00:00, 22.26it/s]\n"
          ]
        },
        {
          "output_type": "stream",
          "name": "stdout",
          "text": [
            "\n",
            "Test set: Average loss: 0.0211, Accuracy: 9938/10000 (99.38%)\n",
            "\n",
            "New best accuracy: 99.38%\n",
            "\n",
            "Epoch 17/19\n"
          ]
        },
        {
          "output_type": "stream",
          "name": "stderr",
          "text": [
            "Epoch=17 Loss=0.0791 Batch_id=468 Accuracy=99.12%: 100%|██████████| 469/469 [00:20<00:00, 22.34it/s]\n"
          ]
        },
        {
          "output_type": "stream",
          "name": "stdout",
          "text": [
            "\n",
            "Test set: Average loss: 0.0218, Accuracy: 9928/10000 (99.28%)\n",
            "\n",
            "\n",
            "Epoch 18/19\n"
          ]
        },
        {
          "output_type": "stream",
          "name": "stderr",
          "text": [
            "Epoch=18 Loss=0.0271 Batch_id=468 Accuracy=99.24%: 100%|██████████| 469/469 [00:21<00:00, 22.30it/s]\n"
          ]
        },
        {
          "output_type": "stream",
          "name": "stdout",
          "text": [
            "\n",
            "Test set: Average loss: 0.0203, Accuracy: 9933/10000 (99.33%)\n",
            "\n",
            "\n",
            "Epoch 19/19\n"
          ]
        },
        {
          "output_type": "stream",
          "name": "stderr",
          "text": [
            "Epoch=19 Loss=0.0019 Batch_id=468 Accuracy=99.18%: 100%|██████████| 469/469 [00:20<00:00, 22.80it/s]\n"
          ]
        },
        {
          "output_type": "stream",
          "name": "stdout",
          "text": [
            "\n",
            "Test set: Average loss: 0.0197, Accuracy: 9933/10000 (99.33%)\n",
            "\n",
            "\n",
            "Final best accuracy: 99.38%\n",
            "Total parameters: 9,798\n"
          ]
        }
      ],
      "source": [
        "from __future__ import print_function\n",
        "import torch\n",
        "import torch.nn as nn\n",
        "import torch.nn.functional as F\n",
        "import torch.optim as optim\n",
        "from torchvision import datasets, transforms\n",
        "\n",
        "class Net(nn.Module):\n",
        "    def __init__(self):\n",
        "        super(Net, self).__init__()\n",
        "        dropout_value = 0.05\n",
        "\n",
        "        # Block 1 - Light feature extraction\n",
        "        self.conv1 = nn.Conv2d(1, 10, 3, padding=1)  # 28x28x10, RF=3\n",
        "        self.bn1 = nn.BatchNorm2d(10)\n",
        "        self.dropout1 = nn.Dropout(dropout_value)\n",
        "\n",
        "        self.conv2 = nn.Conv2d(10, 16, 3, padding=1)  # 28x28x16, RF=5\n",
        "        self.bn2 = nn.BatchNorm2d(16)\n",
        "        self.dropout2 = nn.Dropout(dropout_value)\n",
        "\n",
        "        # Transition Block 1 - Reduce spatial dimensions\n",
        "        self.pool1 = nn.MaxPool2d(2, 2)  # 14x14x16, RF=6\n",
        "        self.conv1x1_1 = nn.Conv2d(16, 10, 1)  # 14x14x10, RF=6\n",
        "\n",
        "        # Block 2 - Deep feature extraction\n",
        "        self.conv3 = nn.Conv2d(10, 16, 3, padding=1)  # 14x14x16, RF=10\n",
        "        self.bn3 = nn.BatchNorm2d(16)\n",
        "        self.dropout3 = nn.Dropout(dropout_value)\n",
        "\n",
        "        self.conv4 = nn.Conv2d(16, 16, 3, padding=1)  # 14x14x16, RF=14\n",
        "        self.bn4 = nn.BatchNorm2d(16)\n",
        "        self.dropout4 = nn.Dropout(dropout_value)\n",
        "\n",
        "        # Transition Block 2\n",
        "        self.pool2 = nn.MaxPool2d(2, 2)  # 7x7x16, RF=16\n",
        "        self.conv1x1_2 = nn.Conv2d(16, 10, 1)  # 7x7x10, RF=16\n",
        "\n",
        "        # Block 3 - Final feature extraction\n",
        "        self.conv5 = nn.Conv2d(10, 16, 3, padding=1)  # 7x7x16, RF=24\n",
        "        self.bn5 = nn.BatchNorm2d(16)\n",
        "        self.dropout5 = nn.Dropout(dropout_value)\n",
        "\n",
        "        self.conv6 = nn.Conv2d(16, 16, 3, padding=1)  # 7x7x16, RF=32\n",
        "        self.bn6 = nn.BatchNorm2d(16)\n",
        "        self.dropout6 = nn.Dropout(dropout_value)\n",
        "\n",
        "        # Output Block with GAP\n",
        "        self.conv7 = nn.Conv2d(16, 10, 1)  # 7x7x10, RF=32\n",
        "        self.gap = nn.AdaptiveAvgPool2d(1)  # 1x1x10 - Global Average Pooling\n",
        "\n",
        "    def forward(self, x):\n",
        "        # Block 1\n",
        "        x = self.dropout1(self.bn1(F.relu(self.conv1(x))))\n",
        "        x = self.dropout2(self.bn2(F.relu(self.conv2(x))))\n",
        "\n",
        "        # Transition 1\n",
        "        x = self.pool1(x)\n",
        "        x = F.relu(self.conv1x1_1(x))\n",
        "\n",
        "        # Block 2\n",
        "        x = self.dropout3(self.bn3(F.relu(self.conv3(x))))\n",
        "        x = self.dropout4(self.bn4(F.relu(self.conv4(x))))\n",
        "\n",
        "        # Transition 2\n",
        "        x = self.pool2(x)\n",
        "        x = F.relu(self.conv1x1_2(x))\n",
        "\n",
        "        # Block 3\n",
        "        x = self.dropout5(self.bn5(F.relu(self.conv5(x))))\n",
        "        x = self.dropout6(self.bn6(F.relu(self.conv6(x))))\n",
        "\n",
        "        # Output\n",
        "        x = self.conv7(x)\n",
        "        x = self.gap(x)\n",
        "        x = x.view(-1, 10)\n",
        "\n",
        "        return F.log_softmax(x, dim=1)\n",
        "\n",
        "# Setup\n",
        "use_cuda = torch.cuda.is_available()\n",
        "device = torch.device(\"cuda\" if use_cuda else \"cpu\")\n",
        "print(f\"Device: {device}\")\n",
        "\n",
        "# Model initialization and summary\n",
        "model = Net().to(device)\n",
        "\n",
        "# Count parameters\n",
        "total_params = sum(p.numel() for p in model.parameters())\n",
        "trainable_params = sum(p.numel() for p in model.parameters() if p.requires_grad)\n",
        "print(f\"Total parameters: {total_params:,}\")\n",
        "print(f\"Trainable parameters: {trainable_params:,}\")\n",
        "\n",
        "# Install and use torchsummary if available\n",
        "try:\n",
        "    from torchsummary import summary\n",
        "    summary(model, input_size=(1, 28, 28))\n",
        "except:\n",
        "    print(\"torchsummary not available, skipping summary\")\n",
        "\n",
        "# Set random seed for reproducibility\n",
        "torch.manual_seed(1)\n",
        "\n",
        "# Data loaders with augmentation for training\n",
        "batch_size = 128\n",
        "kwargs = {'num_workers': 1, 'pin_memory': True} if use_cuda else {}\n",
        "\n",
        "# Enhanced data augmentation for training\n",
        "train_transform = transforms.Compose([\n",
        "    transforms.RandomRotation((-7.0, 7.0), fill=0),\n",
        "    transforms.ToTensor(),\n",
        "    transforms.Normalize((0.1307,), (0.3081,))\n",
        "])\n",
        "\n",
        "# Standard normalization for testing\n",
        "test_transform = transforms.Compose([\n",
        "    transforms.ToTensor(),\n",
        "    transforms.Normalize((0.1307,), (0.3081,))\n",
        "])\n",
        "\n",
        "train_loader = torch.utils.data.DataLoader(\n",
        "    datasets.MNIST('../data', train=True, download=True, transform=train_transform),\n",
        "    batch_size=batch_size, shuffle=True, **kwargs)\n",
        "\n",
        "test_loader = torch.utils.data.DataLoader(\n",
        "    datasets.MNIST('../data', train=False, transform=test_transform),\n",
        "    batch_size=batch_size, shuffle=False, **kwargs)\n",
        "\n",
        "# Training function\n",
        "from tqdm import tqdm\n",
        "\n",
        "def train(model, device, train_loader, optimizer, epoch):\n",
        "    model.train()\n",
        "    pbar = tqdm(train_loader)\n",
        "    train_loss = 0\n",
        "    correct = 0\n",
        "    processed = 0\n",
        "\n",
        "    for batch_idx, (data, target) in enumerate(pbar):\n",
        "        data, target = data.to(device), target.to(device)\n",
        "\n",
        "        optimizer.zero_grad()\n",
        "        output = model(data)\n",
        "        loss = F.nll_loss(output, target)\n",
        "\n",
        "        train_loss += loss.item()\n",
        "\n",
        "        loss.backward()\n",
        "        optimizer.step()\n",
        "\n",
        "        pred = output.argmax(dim=1, keepdim=True)\n",
        "        correct += pred.eq(target.view_as(pred)).sum().item()\n",
        "        processed += len(data)\n",
        "\n",
        "        pbar.set_description(desc=f'Epoch={epoch} Loss={loss.item():.4f} Batch_id={batch_idx} Accuracy={100*correct/processed:.2f}%')\n",
        "\n",
        "# Testing function\n",
        "def test(model, device, test_loader):\n",
        "    model.eval()\n",
        "    test_loss = 0\n",
        "    correct = 0\n",
        "\n",
        "    with torch.no_grad():\n",
        "        for data, target in test_loader:\n",
        "            data, target = data.to(device), target.to(device)\n",
        "            output = model(data)\n",
        "            test_loss += F.nll_loss(output, target, reduction='sum').item()\n",
        "            pred = output.argmax(dim=1, keepdim=True)\n",
        "            correct += pred.eq(target.view_as(pred)).sum().item()\n",
        "\n",
        "    test_loss /= len(test_loader.dataset)\n",
        "    accuracy = 100. * correct / len(test_loader.dataset)\n",
        "\n",
        "    print(f'\\nTest set: Average loss: {test_loss:.4f}, Accuracy: {correct}/{len(test_loader.dataset)} ({accuracy:.2f}%)\\n')\n",
        "\n",
        "    return accuracy\n",
        "\n",
        "# Training with learning rate scheduling\n",
        "model = Net().to(device)\n",
        "\n",
        "# Using SGD with momentum and learning rate scheduling\n",
        "optimizer = optim.SGD(model.parameters(), lr=0.015, momentum=0.9, weight_decay=0.0001)\n",
        "\n",
        "# Learning rate scheduler - ReduceLROnPlateau or StepLR\n",
        "scheduler = optim.lr_scheduler.OneCycleLR(\n",
        "    optimizer,\n",
        "    max_lr=0.015,\n",
        "    epochs=19,\n",
        "    steps_per_epoch=len(train_loader),\n",
        "    pct_start=0.2,\n",
        "    div_factor=10,\n",
        "    final_div_factor=100\n",
        ")\n",
        "\n",
        "# Training loop\n",
        "best_accuracy = 0\n",
        "epochs = 19\n",
        "\n",
        "for epoch in range(1, epochs + 1):\n",
        "    print(f'\\nEpoch {epoch}/{epochs}')\n",
        "    train(model, device, train_loader, optimizer, epoch)\n",
        "    accuracy = test(model, device, test_loader)\n",
        "\n",
        "    # Update scheduler after each epoch\n",
        "    if epoch <= 18:  # OneCycleLR handles its own stepping\n",
        "        for _ in range(len(train_loader)):\n",
        "            scheduler.step()\n",
        "\n",
        "    if accuracy > best_accuracy:\n",
        "        best_accuracy = accuracy\n",
        "        print(f'New best accuracy: {best_accuracy:.2f}%')\n",
        "\n",
        "    if accuracy >= 99.4:\n",
        "        print(f'Target accuracy of 99.4% reached at epoch {epoch}!')\n",
        "        break\n",
        "\n",
        "print(f'\\nFinal best accuracy: {best_accuracy:.2f}%')\n",
        "print(f'Total parameters: {total_params:,}')"
      ]
    }
  ]
}